{
 "metadata": {
  "name": ""
 },
 "nbformat": 3,
 "nbformat_minor": 0,
 "worksheets": [
  {
   "cells": [
    {
     "cell_type": "code",
     "collapsed": false,
     "input": [
      "import pandas as pd\n",
      "import json\n",
      "import nltk\n",
      "import numpy as np"
     ],
     "language": "python",
     "metadata": {},
     "outputs": [],
     "prompt_number": 5
    },
    {
     "cell_type": "code",
     "collapsed": false,
     "input": [
      "dfTrain = pd.read_csv('../data/train.tsv',sep = '\\t')\n",
      "dfTest = pd.read_csv('../data/test.tsv', sep = '\\t')\n",
      "\n",
      "df = dfTrain.append(dfTest,ignore_index=True)\n",
      "\n",
      "df['setType'] = 'training'\n",
      "df['setType'][np.isnan(df.label)] = 'test'"
     ],
     "language": "python",
     "metadata": {},
     "outputs": [],
     "prompt_number": 61
    },
    {
     "cell_type": "heading",
     "level": 3,
     "metadata": {},
     "source": [
      "Extract features"
     ]
    },
    {
     "cell_type": "code",
     "collapsed": false,
     "input": [
      "def getBoilerPlateText(text, obj = 'title'):    \n",
      "    try:\n",
      "        result = json.loads(text)[obj].encode('utf-8').strip()    \n",
      "    except:  # if there is no title, put in blank\n",
      "        result = ''\n",
      "    return result"
     ],
     "language": "python",
     "metadata": {},
     "outputs": [],
     "prompt_number": 62
    },
    {
     "cell_type": "code",
     "collapsed": false,
     "input": [
      "boilerPlateTitles = df.boilerplate.apply(getBoilerPlateText,obj = 'title')\n",
      "boilerPlateBodies = df.boilerplate.apply(getBoilerPlateText,obj =  'body')"
     ],
     "language": "python",
     "metadata": {},
     "outputs": [],
     "prompt_number": 63
    },
    {
     "cell_type": "code",
     "collapsed": false,
     "input": [
      "from sklearn.feature_extraction.text import CountVectorizer, TfidfVectorizer"
     ],
     "language": "python",
     "metadata": {},
     "outputs": [],
     "prompt_number": 64
    },
    {
     "cell_type": "code",
     "collapsed": false,
     "input": [
      "# Vectorizer will by default remove punctuation and convert to lower case. We just need to strip the stop words before training our classifier.\n",
      "vectorizer = CountVectorizer(min_df=2,stop_words='english',binary=False) # use binary option to check for instances instead of summing instances"
     ],
     "language": "python",
     "metadata": {},
     "outputs": [],
     "prompt_number": 114
    },
    {
     "cell_type": "code",
     "collapsed": false,
     "input": [
      "# Convert body text into document term matrices\n",
      "X = vectorizer.fit_transform(df.boilerPlateBody)\n",
      "Y = df.label"
     ],
     "language": "python",
     "metadata": {},
     "outputs": [],
     "prompt_number": 115
    },
    {
     "cell_type": "code",
     "collapsed": false,
     "input": [
      "def countText(text, pattern, relative = True):\n",
      "    import re\n",
      "    result = len(re.findall(pattern, text))\n",
      "    if relative == True:\n",
      "        result = result / np.double(countWords(text))\n",
      "    if text == '':\n",
      "        result = 0\n",
      "    return result"
     ],
     "language": "python",
     "metadata": {},
     "outputs": [],
     "prompt_number": 14
    },
    {
     "cell_type": "code",
     "collapsed": false,
     "input": [
      "def countWords(text):\n",
      "    import nltk\n",
      "    if text == '':\n",
      "        result = 0\n",
      "    else: \n",
      "        result = len(nltk.word_tokenize(text))\n",
      "    return result"
     ],
     "language": "python",
     "metadata": {},
     "outputs": [],
     "prompt_number": 65
    },
    {
     "cell_type": "code",
     "collapsed": false,
     "input": [
      "keyTerms = ['\\,',\n",
      "            '\\!',\n",
      "            'butter',\n",
      "            'water',\n",
      "            'cup',\n",
      "            'degree',\n",
      "            'recipe'\n",
      "            'comment',\n",
      "            'email',\n",
      "            'contact',\n",
      "            '[0-9]{4}',\n",
      "            '\\|',\n",
      "            '\\d',\n",
      "            '@',\n",
      "            'calories',\n",
      "            'sign?in',\n",
      "            'log?in',\n",
      "            'register'\n",
      "            ]"
     ],
     "language": "python",
     "metadata": {},
     "outputs": [],
     "prompt_number": 66
    },
    {
     "cell_type": "code",
     "collapsed": false,
     "input": [
      "textFeatures = pd.DataFrame(index = df.index)\n",
      "for term in keyTerms:\n",
      "    textFeatures['bpBodyContains_' + term] = boilerPlateBodies.apply(countText, pattern = term, relative = True)\n",
      "    textFeatures['bpTitleContains_' + term] = boilerPlateTitles.apply(countText, pattern = term, relative = True)"
     ],
     "language": "python",
     "metadata": {},
     "outputs": [],
     "prompt_number": 69
    },
    {
     "cell_type": "code",
     "collapsed": false,
     "input": [
      "def getUrlDomain(url):\n",
      "    import urlparse\n",
      "    import re\n",
      "    parsed = urlparse.urlparse(url)\n",
      "    domain = re.sub('^www\\.', '', parsed.netloc).split('.')\n",
      "    result = domain[len(domain)-1]\n",
      "    return result\n",
      "\n",
      "def getName(url):\n",
      "    import urlparse\n",
      "    import re\n",
      "    parsed = urlparse.urlparse(url)\n",
      "    domain = re.sub('^www\\.', '', parsed.netloc).split('.')\n",
      "    result = domain[0]\n",
      "    return result\n",
      "\n",
      "def countPaths(url):\n",
      "    import urlparse\n",
      "    import re\n",
      "    parsed = urlparse.urlparse(url)\n",
      "    domain = re.findall('\\/',parsed.path)\n",
      "    return len(domain)"
     ],
     "language": "python",
     "metadata": {},
     "outputs": [],
     "prompt_number": 70
    },
    {
     "cell_type": "code",
     "collapsed": false,
     "input": [
      "domains = df.url.apply(getUrlDomain)\n",
      "webNames = df.url.apply(getName)\n",
      "numPaths = df.url.apply(countPaths)"
     ],
     "language": "python",
     "metadata": {},
     "outputs": [],
     "prompt_number": 71
    },
    {
     "cell_type": "code",
     "collapsed": false,
     "input": [
      "domains_df = pd.get_dummies(domains, prefix = 'DUM')\n",
      "webNames_df = pd.get_dummies(webNames, prefix = 'DUM')\n",
      "alchemyCategories_df = pd.get_dummies(df.alchemy_category, prefix = 'DUM')\n",
      "numPaths_df = pd.get_dummies(numPaths, prefix = 'DUM')"
     ],
     "language": "python",
     "metadata": {},
     "outputs": [],
     "prompt_number": 104
    },
    {
     "cell_type": "code",
     "collapsed": false,
     "input": [
      "originalFeatureList =['avglinksize','commonlinkratio_1','commonlinkratio_2','commonlinkratio_3','commonlinkratio_4', \n",
      "           'compression_ratio','embed_ratio','frameTagRatio', 'framebased', 'hasDomainLink', 'html_ratio', 'image_ratio', \n",
      "           'is_news', 'lengthyLinkDomain', 'linkwordscore', 'news_front_page', 'non_markup_alphanum_characters', 'numberOfLinks',\n",
      "           'numwords_in_url', 'parametrizedLinkRatio', 'spelling_errors_ratio']\n",
      "\n",
      "originalFeatures = df[originalFeatureList]"
     ],
     "language": "python",
     "metadata": {},
     "outputs": [],
     "prompt_number": 105
    },
    {
     "cell_type": "code",
     "collapsed": false,
     "input": [
      "from sklearn.linear_model import ElasticNetCV, ElasticNet\n",
      "from sklearn.grid_search import GridSearchCV"
     ],
     "language": "python",
     "metadata": {},
     "outputs": [],
     "prompt_number": 240
    },
    {
     "cell_type": "code",
     "collapsed": false,
     "input": [
      "# Construct Training and Test Data\n",
      "originalFeatures_training = originalFeatures[df.setType == 'training']\n",
      "textFeatures_training = textFeatures[df.setType == 'training']\n",
      "domains_training = domains_df[df.setType == 'training']\n",
      "webNames_training = webNames_df[df.setType == 'training']\n",
      "numPaths_training = numPaths_df[df.setType == 'training']\n",
      "alchemyCategories_training = alchemyCategories_df[df.setType == 'training']\n",
      "\n",
      "Y = df[df.setType == 'training'].label\n",
      "X = np.concatenate((originalFeatures_training.values, textFeatures_training, numPaths_training,\n",
      "                    domains_training.values, webNames_training.values,alchemyCategories_training.values), 1)\n",
      "X[X == '?'] = 0"
     ],
     "language": "python",
     "metadata": {},
     "outputs": [],
     "prompt_number": 107
    },
    {
     "cell_type": "code",
     "collapsed": false,
     "input": [
      "X.shape"
     ],
     "language": "python",
     "metadata": {},
     "outputs": [
      {
       "metadata": {},
       "output_type": "pyout",
       "prompt_number": 191,
       "text": [
        "(7395, 4295)"
       ]
      }
     ],
     "prompt_number": 191
    },
    {
     "cell_type": "code",
     "collapsed": false,
     "input": [
      "def crossVal(clf, X_data, Y_data, NFOLDS = 10): \n",
      "    import sklearn.ensemble as ens\n",
      "    from sklearn import metrics\n",
      "    from sklearn.cross_validation import StratifiedKFold\n",
      "\n",
      "    skf = StratifiedKFold(Y_data, n_folds = NFOLDS)\n",
      "    auc = []\n",
      "    for train_index, test_index in skf:\n",
      "        x_train, x_test = X_data[train_index], X_data[test_index]\n",
      "        y_train, y_test = Y_data[train_index], Y_data[test_index]\n",
      "        \n",
      "        clf.fit(x_train, y_train)\n",
      "        \n",
      "        try: \n",
      "            probs = clf.predict_proba(x_test)\n",
      "            y_hat = probs[:,1]\n",
      "        except:\n",
      "            y_hat = clf.predict(x_test)\n",
      "        auc.append(metrics.roc_auc_score(y_test, y_hat))\n",
      "    return auc"
     ],
     "language": "python",
     "metadata": {},
     "outputs": [],
     "prompt_number": 223
    },
    {
     "cell_type": "code",
     "collapsed": false,
     "input": [
      "elasticCV = ElasticNetCV(l1_ratio= [.1, .5, .7, .9, .95, .99, 1], n_jobs = 2)\n",
      "elasticCV.fit(X.astype(np.float),Y)\n",
      "alpha_star = elasticCV.alpha_\n",
      "l1_ratio_star = elasticCV.l1_ratio_"
     ],
     "language": "python",
     "metadata": {},
     "outputs": [
      {
       "metadata": {},
       "output_type": "pyout",
       "prompt_number": 237,
       "text": [
        "ElasticNetCV(alphas=None, copy_X=True, cv=None, eps=0.001, fit_intercept=True,\n",
        "       l1_ratio=[0.1, 0.5, 0.7, 0.9, 0.95, 0.99, 1], max_iter=1000,\n",
        "       n_alphas=100, n_jobs=1, normalize=False, precompute='auto',\n",
        "       tol=0.0001, verbose=0)"
       ]
      }
     ],
     "prompt_number": 237
    },
    {
     "cell_type": "code",
     "collapsed": false,
     "input": [
      "# l1: 0.8, alpha = 1\n",
      "\n",
      "clf_EN_1 = ElasticNet(alpha = alpha_star, l1_ratio=l1_ratio_star)\n",
      "results = crossVal(clf_EN_1,X.astype(np.float),Y,10)\n",
      "print 'alpha: ' + str(alpha_star)\n",
      "print 'rho: ' + str(l1_ratio_star)\n",
      "print results"
     ],
     "language": "python",
     "metadata": {},
     "outputs": [
      {
       "output_type": "stream",
       "stream": "stdout",
       "text": [
        "alpha: 0.589482653704\n",
        "rho: 0.1\n",
        "[0.62111842105263071, 0.6539254385964911, 0.62657163742690059, 0.64047514619882906, 0.59868421052631571, 0.62637056581647621, 0.62775579009088234, 0.65041776605101154, 0.57822486074464952, 0.6257147045887701]\n"
       ]
      }
     ],
     "prompt_number": 239
    },
    {
     "cell_type": "code",
     "collapsed": false,
     "input": [
      "clf_RF_1 = ens.RandomForestClassifier(random_state = 123)\n"
     ],
     "language": "python",
     "metadata": {},
     "outputs": [],
     "prompt_number": 241
    },
    {
     "cell_type": "code",
     "collapsed": false,
     "input": [
      "parameters = {'criterion':('gini', 'entropy'), 'min_samples_split': [2,3,6,8,10],\n",
      "              'min_samples_leaf' : [2,4,6,8,10], 'n_estimators': [10,100,300,750,1000]}\n"
     ],
     "language": "python",
     "metadata": {},
     "outputs": [],
     "prompt_number": 243
    },
    {
     "cell_type": "code",
     "collapsed": false,
     "input": [
      "clfRFGrid = GridSearchCV(clf_RF_1, parameters)"
     ],
     "language": "python",
     "metadata": {},
     "outputs": [],
     "prompt_number": 244
    },
    {
     "cell_type": "code",
     "collapsed": false,
     "input": [
      "clfRFGrid.fit(X,Y)"
     ],
     "language": "python",
     "metadata": {},
     "outputs": [],
     "prompt_number": "*"
    },
    {
     "cell_type": "code",
     "collapsed": false,
     "input": [
      "DF = pd.DataFrame(np.vstack([y_hat_GBM,y_hat_RF,a]).T)"
     ],
     "language": "python",
     "metadata": {},
     "outputs": [],
     "prompt_number": 182
    },
    {
     "cell_type": "code",
     "collapsed": false,
     "input": [
      "DF.values"
     ],
     "language": "python",
     "metadata": {},
     "outputs": [
      {
       "metadata": {},
       "output_type": "pyout",
       "prompt_number": 184,
       "text": [
        "array([[ 0.86350422,  0.778     ,  0.57300679],\n",
        "       [ 0.28875581,  0.236     ,  0.31837239],\n",
        "       [ 0.35239227,  0.338     ,  0.43837297],\n",
        "       ..., \n",
        "       [ 0.51469589,  0.69      ,  0.57456485],\n",
        "       [ 0.34183675,  0.452     ,  0.62417766],\n",
        "       [ 0.82326874,  0.786     ,  0.65698983]])"
       ]
      }
     ],
     "prompt_number": 184
    },
    {
     "cell_type": "code",
     "collapsed": false,
     "input": [
      "originalFeatures_test = originalFeatures[df.setType == 'test']\n",
      "textFeatures_test = textFeatures[df.setType == 'test']\n",
      "domains_test = domains_df[df.setType == 'test']\n",
      "webNames_test = webNames_df[df.setType == 'test']\n",
      "numPaths_test = numPaths_df[df.setType == 'test']\n",
      "alchemyCategories_test = alchemyCategories_df[df.setType == 'test']\n",
      "\n",
      "X_Test = np.concatenate((originalFeatures_test.values, textFeatures_test, numPaths_test,\n",
      "                    domains_test.values, webNames_test.values,alchemyCategories_test.values), 1)\n",
      "X_Test[X_Test == '?'] = 0"
     ],
     "language": "python",
     "metadata": {},
     "outputs": [],
     "prompt_number": 132
    },
    {
     "cell_type": "code",
     "collapsed": false,
     "input": [
      "import sklearn.ensemble as ens"
     ],
     "language": "python",
     "metadata": {},
     "outputs": [],
     "prompt_number": 134
    },
    {
     "cell_type": "heading",
     "level": 3,
     "metadata": {},
     "source": [
      "Train chosen classifier and predict on test set"
     ]
    },
    {
     "cell_type": "code",
     "collapsed": false,
     "input": [],
     "language": "python",
     "metadata": {},
     "outputs": []
    },
    {
     "cell_type": "code",
     "collapsed": false,
     "input": [
      "clfGBM = ens.GradientBoostingClassifier(n_estimators=100, max_depth = 3, random_state=123)\n",
      "clfGBM.fit(X, Y)\n",
      "probs = clfGBM.predict_proba(X_Test)\n",
      "y_hat_GBM = probs[:,1]\n",
      "\n",
      "clfRF = ens.RandomForestClassifier(n_estimators = 500, random_state = 123)\n",
      "clfRF.fit(X,Y)\n",
      "probs = clfRF.predict_proba(X_Test)\n",
      "y_hat_RF = probs[:,1]\n"
     ],
     "language": "python",
     "metadata": {},
     "outputs": [],
     "prompt_number": 135
    },
    {
     "cell_type": "code",
     "collapsed": false,
     "input": [
      "finalPrediction = np.vstack([y_hat_GBM, y_hat_RF]).mean(0)"
     ],
     "language": "python",
     "metadata": {},
     "outputs": [],
     "prompt_number": 159
    },
    {
     "cell_type": "code",
     "collapsed": false,
     "input": [
      "finalPrediction.shape"
     ],
     "language": "python",
     "metadata": {},
     "outputs": [
      {
       "metadata": {},
       "output_type": "pyout",
       "prompt_number": 160,
       "text": [
        "(3171,)"
       ]
      }
     ],
     "prompt_number": 160
    },
    {
     "cell_type": "code",
     "collapsed": false,
     "input": [
      "submission = pd.DataFrame(df[df.setType == 'test'].urlid)\n",
      "submission['label'] = finalPrediction"
     ],
     "language": "python",
     "metadata": {},
     "outputs": [],
     "prompt_number": 162
    },
    {
     "cell_type": "code",
     "collapsed": false,
     "input": [
      "submission"
     ],
     "language": "python",
     "metadata": {},
     "outputs": [
      {
       "html": [
        "<pre>\n",
        "&ltclass 'pandas.core.frame.DataFrame'&gt\n",
        "Int64Index: 3171 entries, 7395 to 10565\n",
        "Data columns (total 2 columns):\n",
        "urlid    3171  non-null values\n",
        "label    3171  non-null values\n",
        "dtypes: float64(1), int64(1)\n",
        "</pre>"
       ],
       "metadata": {},
       "output_type": "pyout",
       "prompt_number": 163,
       "text": [
        "<class 'pandas.core.frame.DataFrame'>\n",
        "Int64Index: 3171 entries, 7395 to 10565\n",
        "Data columns (total 2 columns):\n",
        "urlid    3171  non-null values\n",
        "label    3171  non-null values\n",
        "dtypes: float64(1), int64(1)"
       ]
      }
     ],
     "prompt_number": 163
    },
    {
     "cell_type": "code",
     "collapsed": false,
     "input": [
      "submission.to_csv('submission_19.csv', index = False, sep = ',')"
     ],
     "language": "python",
     "metadata": {},
     "outputs": [],
     "prompt_number": 164
    }
   ],
   "metadata": {}
  }
 ]
}